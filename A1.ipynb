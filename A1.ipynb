{
 "cells": [
  {
   "cell_type": "code",
   "execution_count": 1,
   "metadata": {},
   "outputs": [],
   "source": [
    "import speech_recognition as sr\n",
    "import webbrowser as wb\n",
    "from bs4 import BeautifulSoup \n",
    "import requests"
   ]
  },
  {
   "cell_type": "code",
   "execution_count": 6,
   "metadata": {},
   "outputs": [
    {
     "name": "stdout",
     "output_type": "stream",
     "text": [
      "در حال گوش کردن...\n",
      "\n",
      "پیام‌های جدید جیمیلمو بهم نشون بده\n",
      "\n",
      "در حال پردازش...\n"
     ]
    },
    {
     "data": {
      "text/plain": [
       "True"
      ]
     },
     "execution_count": 6,
     "metadata": {},
     "output_type": "execute_result"
    }
   ],
   "source": [
    "recorder = sr.Recognizer()\n",
    "\n",
    "print('در حال گوش کردن...')\n",
    "\n",
    "with sr.Microphone() as source:\n",
    "    recorder.pause_threshold= 1\n",
    "    audio = recorder.listen(source)\n",
    "\n",
    "text = recorder.recognize_google(audio, language='fa_IR')\n",
    "\n",
    "print()\n",
    "print(text)\n",
    "print()\n",
    "print('در حال پردازش...')\n",
    "\n",
    "\n",
    "\n",
    "\n",
    "if 'جیمیل' in text:\n",
    "    wb.open(\"https://mail.google.com\")\n",
    "\n",
    "else:\n",
    "    search_url = f\"https://www.google.com/search?q={text.strip()}\"\n",
    "    response = requests.get(search_url)\n",
    "\n",
    "\n",
    "    soup = BeautifulSoup(response.text, \"html.parser\")\n",
    "    site = soup.find_all(\"a\") \n",
    "    for a in site:\n",
    "        b = a.find_all('div',class_=\"BVG0Nb\")\n",
    "        for c in b :\n",
    "            print(c.get_text())\n",
    "\n",
    "\n",
    "wb.open(search_url)\n",
    "\n",
    "\n"
   ]
  }
 ],
 "metadata": {
  "kernelspec": {
   "display_name": "Python 3",
   "language": "python",
   "name": "python3"
  },
  "language_info": {
   "codemirror_mode": {
    "name": "ipython",
    "version": 3
   },
   "file_extension": ".py",
   "mimetype": "text/x-python",
   "name": "python",
   "nbconvert_exporter": "python",
   "pygments_lexer": "ipython3",
   "version": "3.8.8"
  }
 },
 "nbformat": 4,
 "nbformat_minor": 2
}
